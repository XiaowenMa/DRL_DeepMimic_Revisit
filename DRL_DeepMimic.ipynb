{
 "cells": [
  {
   "cell_type": "code",
   "execution_count": null,
   "metadata": {
    "id": "cUoOi23YuOM_"
   },
   "outputs": [],
   "source": [
    "!pip install mujoco\n",
    "!pip install gymnasium\n",
    "\n",
    "# Set up GPU rendering.\n",
    "from google.colab import files\n",
    "import distutils.util\n",
    "import os\n",
    "import subprocess\n",
    "if subprocess.run('nvidia-smi').returncode:\n",
    "  raise RuntimeError(\n",
    "      'Cannot communicate with GPU. '\n",
    "      'Make sure you are using a GPU Colab runtime. '\n",
    "      'Go to the Runtime menu and select Choose runtime type.')\n",
    "\n",
    "# Add an ICD config so that glvnd can pick up the Nvidia EGL driver.\n",
    "# This is usually installed as part of an Nvidia driver package, but the Colab\n",
    "# kernel doesn't install its driver via APT, and as a result the ICD is missing.\n",
    "# (https://github.com/NVIDIA/libglvnd/blob/master/src/EGL/icd_enumeration.md)\n",
    "NVIDIA_ICD_CONFIG_PATH = '/usr/share/glvnd/egl_vendor.d/10_nvidia.json'\n",
    "if not os.path.exists(NVIDIA_ICD_CONFIG_PATH):\n",
    "  with open(NVIDIA_ICD_CONFIG_PATH, 'w') as f:\n",
    "    f.write(\"\"\"{\n",
    "    \"file_format_version\" : \"1.0.0\",\n",
    "    \"ICD\" : {\n",
    "        \"library_path\" : \"libEGL_nvidia.so.0\"\n",
    "    }\n",
    "}\n",
    "\"\"\")\n",
    "\n",
    "# Configure MuJoCo to use the EGL rendering backend (requires GPU)\n",
    "print('Setting environment variable to use GPU rendering:')\n",
    "%env MUJOCO_GL=egl\n",
    "\n",
    "# Check if installation was succesful.\n",
    "try:\n",
    "  print('Checking that the installation succeeded:')\n",
    "  import mujoco\n",
    "  mujoco.MjModel.from_xml_string('<mujoco/>')\n",
    "except Exception as e:\n",
    "  raise e from RuntimeError(\n",
    "      'Something went wrong during installation. Check the shell output above '\n",
    "      'for more information.\\n'\n",
    "      'If using a hosted Colab runtime, make sure you enable GPU acceleration '\n",
    "      'by going to the Runtime menu and selecting \"Choose runtime type\".')\n",
    "\n",
    "print('Installation successful.')\n",
    "\n",
    "# Other imports and helper functions\n",
    "import time\n",
    "import itertools\n",
    "import numpy as np\n",
    "\n",
    "# Graphics and plotting.\n",
    "print('Installing mediapy:')\n",
    "!command -v ffmpeg >/dev/null || (apt update && apt install -y ffmpeg)\n",
    "!pip install -q mediapy\n",
    "import mediapy as media\n",
    "import matplotlib.pyplot as plt\n",
    "\n",
    "# More legible printing from numpy.\n",
    "np.set_printoptions(precision=3, suppress=True, linewidth=100)\n",
    "\n",
    "from IPython.display import clear_output\n",
    "clear_output()\n"
   ]
  },
  {
   "cell_type": "code",
   "execution_count": null,
   "metadata": {
    "id": "jXT4uHotulm3"
   },
   "outputs": [],
   "source": [
    "PROJECT_PATH = '/content/drive/MyDrive/CS 8803 DRL/dp'"
   ]
  },
  {
   "cell_type": "code",
   "execution_count": null,
   "metadata": {
    "colab": {
     "base_uri": "https://localhost:8080/"
    },
    "executionInfo": {
     "elapsed": 49,
     "status": "ok",
     "timestamp": 1742878616826,
     "user": {
      "displayName": "Xiaowen Ma",
      "userId": "02393487494238540473"
     },
     "user_tz": 240
    },
    "id": "lBOOIU2LvalF",
    "outputId": "4aa25fa1-3cc0-4f13-be80-9738b5aca9d3"
   },
   "outputs": [],
   "source": [
    "%cd $PROJECT_PATH\n",
    "%ls"
   ]
  },
  {
   "cell_type": "code",
   "execution_count": null,
   "metadata": {
    "colab": {
     "base_uri": "https://localhost:8080/"
    },
    "executionInfo": {
     "elapsed": 5486,
     "status": "ok",
     "timestamp": 1742878622312,
     "user": {
      "displayName": "Xiaowen Ma",
      "userId": "02393487494238540473"
     },
     "user_tz": 240
    },
    "id": "JwOJ5f2rwqaU",
    "outputId": "2301cf7d-7530-463d-da10-83e8115fbd1e"
   },
   "outputs": [
    {
     "name": "stdout",
     "output_type": "stream",
     "text": [
      "Requirement already satisfied: pyquaternion in /usr/local/lib/python3.11/dist-packages (0.9.9)\n",
      "Requirement already satisfied: numpy in /usr/local/lib/python3.11/dist-packages (from pyquaternion) (2.0.2)\n"
     ]
    }
   ],
   "source": [
    "!pip install pyquaternion\n",
    "# !pip install stable_baselines3[extra]"
   ]
  },
  {
   "cell_type": "code",
   "execution_count": null,
   "metadata": {
    "id": "BWNWS5eGbogw"
   },
   "outputs": [],
   "source": [
    "import sys\n",
    "sys.path.append(PROJECT_PATH)"
   ]
  },
  {
   "cell_type": "code",
   "execution_count": null,
   "metadata": {
    "colab": {
     "base_uri": "https://localhost:8080/"
    },
    "executionInfo": {
     "elapsed": 8,
     "status": "ok",
     "timestamp": 1742021082454,
     "user": {
      "displayName": "Xiaowen Ma",
      "userId": "02393487494238540473"
     },
     "user_tz": 240
    },
    "id": "MMBcZdvxwa0R",
    "outputId": "2d24ecef-abcd-466b-ce64-97ad3de5a976"
   },
   "outputs": [
    {
     "name": "stdout",
     "output_type": "stream",
     "text": [
      "['transformations.py', 'mocap', 'TrajData.py', '__pycache__', '.ipynb_checkpoints', 'mocap_data', 'CustomEnv_old.py', 'videos', 'humanoid_dm_old.xml', 'humanoid_dm_old_new.xml', 'videos_new', 'end_effector.json', 'env_register.py', 'env_creator.py', 'no_gear_humanoid_dm.xml', '__init__.py', 'pd_control.py', 'imitationn learning new.ipynb', 'MUJOCO_LOG.TXT', 'lasthumanoid_dm.xml', 'humanoid_dm.xml', 'videos_new2', 'DRL.py', 'PPOAgent.py', 'CustomEnv.py', 'DRL_DeepMimic.ipynb', 'test.xml']\n"
     ]
    }
   ],
   "source": [
    "import os\n",
    "print(os.listdir())"
   ]
  },
  {
   "cell_type": "code",
   "execution_count": null,
   "metadata": {
    "colab": {
     "base_uri": "https://localhost:8080/"
    },
    "executionInfo": {
     "elapsed": 72,
     "status": "ok",
     "timestamp": 1742878622383,
     "user": {
      "displayName": "Xiaowen Ma",
      "userId": "02393487494238540473"
     },
     "user_tz": 240
    },
    "id": "ng-dWS_81Xv7",
    "outputId": "cc064494-868e-4538-b6f9-9f79fa48a3cd"
   },
   "outputs": [
    {
     "name": "stdout",
     "output_type": "stream",
     "text": [
      "1\n",
      "2\n",
      "importing mocap.py\n"
     ]
    }
   ],
   "source": [
    "import importlib\n",
    "import mocap.mocap\n",
    "# importlib.reload(mocap.mocap)"
   ]
  },
  {
   "cell_type": "code",
   "execution_count": null,
   "metadata": {
    "colab": {
     "base_uri": "https://localhost:8080/"
    },
    "executionInfo": {
     "elapsed": 46,
     "status": "ok",
     "timestamp": 1742881711470,
     "user": {
      "displayName": "Xiaowen Ma",
      "userId": "02393487494238540473"
     },
     "user_tz": 240
    },
    "id": "N-ezOgLfA8U8",
    "outputId": "adefc44a-d2e0-43f8-a733-6d0a54f18d43"
   },
   "outputs": [
    {
     "data": {
      "text/plain": [
       "<module 'PPOAgent' from '/content/drive/MyDrive/CS 8803 DRL/dp/PPOAgent.py'>"
      ]
     },
     "execution_count": 30,
     "metadata": {},
     "output_type": "execute_result"
    }
   ],
   "source": [
    "import PPOAgent\n",
    "importlib.reload(PPOAgent)"
   ]
  },
  {
   "cell_type": "code",
   "execution_count": null,
   "metadata": {
    "id": "ITYyielXwcf9"
   },
   "outputs": [],
   "source": [
    "import pd_control\n",
    "import CustomEnv\n",
    "import DRL\n",
    "from PPOAgent import PPOAgent\n",
    "from TrajData import TrajData\n",
    "from mocap.mocap import MocapDM"
   ]
  },
  {
   "cell_type": "markdown",
   "metadata": {
    "id": "4e0KuwcntrMW"
   },
   "source": []
  },
  {
   "cell_type": "code",
   "execution_count": null,
   "metadata": {
    "colab": {
     "base_uri": "https://localhost:8080/"
    },
    "executionInfo": {
     "elapsed": 26,
     "status": "ok",
     "timestamp": 1742883015948,
     "user": {
      "displayName": "Xiaowen Ma",
      "userId": "02393487494238540473"
     },
     "user_tz": 240
    },
    "id": "Usk6vTKRFbBP",
    "outputId": "aac95e45-57e5-488b-a077-6a89ba65b090"
   },
   "outputs": [
    {
     "data": {
      "text/plain": [
       "<module 'CustomEnv' from '/content/drive/MyDrive/CS 8803 DRL/dp/CustomEnv.py'>"
      ]
     },
     "execution_count": 49,
     "metadata": {},
     "output_type": "execute_result"
    }
   ],
   "source": [
    "importlib.reload(CustomEnv)"
   ]
  },
  {
   "cell_type": "code",
   "execution_count": null,
   "metadata": {
    "id": "N4nNr52j3ynY"
   },
   "outputs": [],
   "source": [
    "importlib.reload(DRL)\n",
    "from mocap.mocap import MocapDM\n",
    "# from DRL import DRL"
   ]
  },
  {
   "cell_type": "code",
   "execution_count": null,
   "metadata": {
    "colab": {
     "base_uri": "https://localhost:8080/"
    },
    "executionInfo": {
     "elapsed": 5423,
     "status": "ok",
     "timestamp": 1742883022927,
     "user": {
      "displayName": "Xiaowen Ma",
      "userId": "02393487494238540473"
     },
     "user_tz": 240
    },
    "id": "yX-2injj2meq",
    "outputId": "1158313d-2000-4e9d-bf22-b460dff0e69c"
   },
   "outputs": [
    {
     "name": "stdout",
     "output_type": "stream",
     "text": [
      "(77, 44)\n",
      "(77, 44)\n",
      "(77, 44)\n",
      "(77, 44)\n",
      "(77, 44)\n",
      "(77, 44)\n",
      "(77, 44)\n",
      "(77, 44)\n",
      "(77, 44)\n",
      "(77, 44)\n",
      "(77, 44)\n",
      "(77, 44)\n",
      "(77, 44)\n",
      "(77, 44)\n",
      "(77, 44)\n",
      "(77, 44)\n"
     ]
    }
   ],
   "source": [
    "# Test Training\n",
    "drl = DRL.DRL()"
   ]
  },
  {
   "cell_type": "code",
   "execution_count": null,
   "metadata": {
    "colab": {
     "base_uri": "https://localhost:8080/"
    },
    "executionInfo": {
     "elapsed": 407575,
     "status": "ok",
     "timestamp": 1742883436624,
     "user": {
      "displayName": "Xiaowen Ma",
      "userId": "02393487494238540473"
     },
     "user_tz": 240
    },
    "id": "4PlHSlCd-tWX",
    "outputId": "7da3ff8d-2d7c-4f43-9d91-f45b90ead793"
   },
   "outputs": [
    {
     "name": "stderr",
     "output_type": "stream",
     "text": [
      "\r  0%|          | 0/10 [00:00<?, ?it/s]"
     ]
    },
    {
     "name": "stdout",
     "output_type": "stream",
     "text": [
      "avg reward:  tensor(0.3541)\n",
      "tensor(669.0806, grad_fn=<AddBackward0>)\n",
      "tensor(662.3640, grad_fn=<AddBackward0>)\n",
      "tensor(655.3445, grad_fn=<AddBackward0>)\n",
      "tensor(648.6002, grad_fn=<AddBackward0>)\n",
      "tensor(641.7789, grad_fn=<AddBackward0>)\n",
      "tensor(634.9235, grad_fn=<AddBackward0>)\n",
      "tensor(628.1495, grad_fn=<AddBackward0>)\n",
      "tensor(621.3666, grad_fn=<AddBackward0>)\n",
      "tensor(614.5225, grad_fn=<AddBackward0>)\n",
      "tensor(607.6651, grad_fn=<AddBackward0>)\n"
     ]
    },
    {
     "name": "stderr",
     "output_type": "stream",
     "text": [
      "\r 10%|█         | 1/10 [00:40<06:03, 40.43s/it]"
     ]
    },
    {
     "name": "stdout",
     "output_type": "stream",
     "text": [
      "avg reward:  tensor(0.3559)\n",
      "tensor(520.0762, grad_fn=<AddBackward0>)\n",
      "tensor(513.6759, grad_fn=<AddBackward0>)\n",
      "tensor(507.2775, grad_fn=<AddBackward0>)\n",
      "tensor(500.8316, grad_fn=<AddBackward0>)\n",
      "tensor(494.3057, grad_fn=<AddBackward0>)\n",
      "tensor(487.7461, grad_fn=<AddBackward0>)\n",
      "tensor(481.1586, grad_fn=<AddBackward0>)\n",
      "tensor(474.5076, grad_fn=<AddBackward0>)\n",
      "tensor(467.7771, grad_fn=<AddBackward0>)\n",
      "tensor(460.9654, grad_fn=<AddBackward0>)\n"
     ]
    },
    {
     "name": "stderr",
     "output_type": "stream",
     "text": [
      "\r 20%|██        | 2/10 [01:21<05:26, 40.77s/it]"
     ]
    },
    {
     "name": "stdout",
     "output_type": "stream",
     "text": [
      "avg reward:  tensor(0.3693)\n",
      "tensor(498.3614, grad_fn=<AddBackward0>)\n",
      "tensor(491.0880, grad_fn=<AddBackward0>)\n",
      "tensor(483.6962, grad_fn=<AddBackward0>)\n",
      "tensor(476.2146, grad_fn=<AddBackward0>)\n",
      "tensor(468.6056, grad_fn=<AddBackward0>)\n",
      "tensor(460.8780, grad_fn=<AddBackward0>)\n",
      "tensor(453.0607, grad_fn=<AddBackward0>)\n",
      "tensor(445.1572, grad_fn=<AddBackward0>)\n",
      "tensor(437.1585, grad_fn=<AddBackward0>)\n",
      "tensor(429.0602, grad_fn=<AddBackward0>)\n"
     ]
    },
    {
     "name": "stderr",
     "output_type": "stream",
     "text": [
      "\r 30%|███       | 3/10 [02:01<04:44, 40.64s/it]"
     ]
    },
    {
     "name": "stdout",
     "output_type": "stream",
     "text": [
      "avg reward:  tensor(0.3562)\n",
      "tensor(399.8111, grad_fn=<AddBackward0>)\n",
      "tensor(392.1152, grad_fn=<AddBackward0>)\n",
      "tensor(384.3667, grad_fn=<AddBackward0>)\n",
      "tensor(376.5967, grad_fn=<AddBackward0>)\n",
      "tensor(368.7813, grad_fn=<AddBackward0>)\n",
      "tensor(360.9242, grad_fn=<AddBackward0>)\n",
      "tensor(353.0573, grad_fn=<AddBackward0>)\n",
      "tensor(345.1864, grad_fn=<AddBackward0>)\n",
      "tensor(337.3055, grad_fn=<AddBackward0>)\n",
      "tensor(329.4198, grad_fn=<AddBackward0>)\n"
     ]
    },
    {
     "name": "stderr",
     "output_type": "stream",
     "text": [
      "\r 40%|████      | 4/10 [02:42<04:04, 40.74s/it]"
     ]
    },
    {
     "name": "stdout",
     "output_type": "stream",
     "text": [
      "avg reward:  tensor(0.3583)\n",
      "tensor(365.0688, grad_fn=<AddBackward0>)\n",
      "tensor(356.3199, grad_fn=<AddBackward0>)\n",
      "tensor(347.5132, grad_fn=<AddBackward0>)\n",
      "tensor(338.6908, grad_fn=<AddBackward0>)\n",
      "tensor(329.8430, grad_fn=<AddBackward0>)\n",
      "tensor(320.9921, grad_fn=<AddBackward0>)\n",
      "tensor(312.1829, grad_fn=<AddBackward0>)\n",
      "tensor(303.4290, grad_fn=<AddBackward0>)\n",
      "tensor(294.7325, grad_fn=<AddBackward0>)\n",
      "tensor(286.1171, grad_fn=<AddBackward0>)\n"
     ]
    },
    {
     "name": "stderr",
     "output_type": "stream",
     "text": [
      "\r 50%|█████     | 5/10 [03:22<03:22, 40.41s/it]"
     ]
    },
    {
     "name": "stdout",
     "output_type": "stream",
     "text": [
      "avg reward:  tensor(0.3463)\n",
      "tensor(231.1293, grad_fn=<AddBackward0>)\n",
      "tensor(223.8868, grad_fn=<AddBackward0>)\n",
      "tensor(216.8368, grad_fn=<AddBackward0>)\n",
      "tensor(210.0072, grad_fn=<AddBackward0>)\n",
      "tensor(203.3885, grad_fn=<AddBackward0>)\n",
      "tensor(196.9919, grad_fn=<AddBackward0>)\n",
      "tensor(190.8439, grad_fn=<AddBackward0>)\n",
      "tensor(184.9475, grad_fn=<AddBackward0>)\n",
      "tensor(179.3031, grad_fn=<AddBackward0>)\n",
      "tensor(173.9198, grad_fn=<AddBackward0>)\n"
     ]
    },
    {
     "name": "stderr",
     "output_type": "stream",
     "text": [
      "\r 60%|██████    | 6/10 [04:03<02:42, 40.66s/it]"
     ]
    },
    {
     "name": "stdout",
     "output_type": "stream",
     "text": [
      "avg reward:  tensor(0.3619)\n",
      "tensor(164.8991, grad_fn=<AddBackward0>)\n",
      "tensor(159.5288, grad_fn=<AddBackward0>)\n",
      "tensor(154.3880, grad_fn=<AddBackward0>)\n",
      "tensor(149.5108, grad_fn=<AddBackward0>)\n",
      "tensor(144.8947, grad_fn=<AddBackward0>)\n",
      "tensor(140.5372, grad_fn=<AddBackward0>)\n",
      "tensor(136.4620, grad_fn=<AddBackward0>)\n",
      "tensor(132.6742, grad_fn=<AddBackward0>)\n",
      "tensor(129.1644, grad_fn=<AddBackward0>)\n",
      "tensor(125.9299, grad_fn=<AddBackward0>)\n"
     ]
    },
    {
     "name": "stderr",
     "output_type": "stream",
     "text": [
      "\r 70%|███████   | 7/10 [04:45<02:02, 40.90s/it]"
     ]
    },
    {
     "name": "stdout",
     "output_type": "stream",
     "text": [
      "avg reward:  tensor(0.3648)\n",
      "tensor(131.6860, grad_fn=<AddBackward0>)\n",
      "tensor(128.9586, grad_fn=<AddBackward0>)\n",
      "tensor(126.4534, grad_fn=<AddBackward0>)\n",
      "tensor(124.1916, grad_fn=<AddBackward0>)\n",
      "tensor(122.1444, grad_fn=<AddBackward0>)\n",
      "tensor(120.2965, grad_fn=<AddBackward0>)\n",
      "tensor(118.6628, grad_fn=<AddBackward0>)\n",
      "tensor(117.2194, grad_fn=<AddBackward0>)\n",
      "tensor(115.9362, grad_fn=<AddBackward0>)\n",
      "tensor(114.8102, grad_fn=<AddBackward0>)\n"
     ]
    },
    {
     "name": "stderr",
     "output_type": "stream",
     "text": [
      "\r 80%|████████  | 8/10 [05:25<01:21, 40.83s/it]"
     ]
    },
    {
     "name": "stdout",
     "output_type": "stream",
     "text": [
      "avg reward:  tensor(0.3728)\n",
      "tensor(121.6075, grad_fn=<AddBackward0>)\n",
      "tensor(120.8144, grad_fn=<AddBackward0>)\n",
      "tensor(120.1183, grad_fn=<AddBackward0>)\n",
      "tensor(119.5307, grad_fn=<AddBackward0>)\n",
      "tensor(119.0061, grad_fn=<AddBackward0>)\n",
      "tensor(118.5359, grad_fn=<AddBackward0>)\n",
      "tensor(118.1251, grad_fn=<AddBackward0>)\n",
      "tensor(117.7572, grad_fn=<AddBackward0>)\n",
      "tensor(117.4057, grad_fn=<AddBackward0>)\n",
      "tensor(117.0627, grad_fn=<AddBackward0>)\n"
     ]
    },
    {
     "name": "stderr",
     "output_type": "stream",
     "text": [
      "\r 90%|█████████ | 9/10 [06:06<00:40, 40.80s/it]"
     ]
    },
    {
     "name": "stdout",
     "output_type": "stream",
     "text": [
      "avg reward:  tensor(0.3609)\n",
      "tensor(115.9081, grad_fn=<AddBackward0>)\n",
      "tensor(115.4718, grad_fn=<AddBackward0>)\n",
      "tensor(115.0255, grad_fn=<AddBackward0>)\n",
      "tensor(114.5896, grad_fn=<AddBackward0>)\n",
      "tensor(114.1438, grad_fn=<AddBackward0>)\n",
      "tensor(113.6890, grad_fn=<AddBackward0>)\n",
      "tensor(113.2416, grad_fn=<AddBackward0>)\n",
      "tensor(112.7984, grad_fn=<AddBackward0>)\n",
      "tensor(112.3480, grad_fn=<AddBackward0>)\n",
      "tensor(111.8954, grad_fn=<AddBackward0>)\n"
     ]
    },
    {
     "name": "stderr",
     "output_type": "stream",
     "text": [
      "100%|██████████| 10/10 [06:47<00:00, 40.76s/it]\n"
     ]
    }
   ],
   "source": [
    "import tqdm\n",
    "for i in tqdm.tqdm(range(10)):\n",
    "  drl.rollout(i)\n",
    "  drl.update()"
   ]
  },
  {
   "cell_type": "code",
   "execution_count": null,
   "metadata": {
    "id": "_7Xvg10ly3gy"
   },
   "outputs": [],
   "source": [
    "# test agent:\n",
    "import cv2\n",
    "from PIL import Image\n",
    "video_dir = \"./videos_new3\"  # Directory to save videos\n",
    "os.makedirs(video_dir, exist_ok=True)"
   ]
  },
  {
   "cell_type": "code",
   "execution_count": null,
   "metadata": {
    "id": "zFKHURfvyyE5"
   },
   "outputs": [],
   "source": [
    "def save_render_image(image,ind):\n",
    "    outpath = os.path.join(\"./videos_new3\",f\"{ind}.png\")\n",
    "    im = Image.fromarray(image)\n",
    "    im.save(outpath)"
   ]
  },
  {
   "cell_type": "code",
   "execution_count": null,
   "metadata": {
    "id": "KRs4Z-6D0YiA"
   },
   "outputs": [],
   "source": [
    "import torch"
   ]
  },
  {
   "cell_type": "code",
   "execution_count": null,
   "metadata": {
    "colab": {
     "base_uri": "https://localhost:8080/"
    },
    "executionInfo": {
     "elapsed": 15240,
     "status": "ok",
     "timestamp": 1742883458651,
     "user": {
      "displayName": "Xiaowen Ma",
      "userId": "02393487494238540473"
     },
     "user_tz": 240
    },
    "id": "Z4gxhAsH104s",
    "outputId": "846b0c5e-f882-45d3-a5e8-6ec8808ae171"
   },
   "outputs": [
    {
     "name": "stdout",
     "output_type": "stream",
     "text": [
      "(77, 44)\n"
     ]
    },
    {
     "name": "stderr",
     "output_type": "stream",
     "text": [
      "100%|██████████| 400/400 [00:14<00:00, 26.86it/s]\n"
     ]
    }
   ],
   "source": [
    "\n",
    "# Create environment with proper render_mode\n",
    "env = CustomEnv.MyEnv(\"\")\n",
    "\n",
    "# Apply video recording wrapper\n",
    "# env = RecordVideo(env, video_folder=video_dir, episode_trigger=lambda x: True)\n",
    "\n",
    "obs, _ = env.reset()\n",
    "\n",
    "with mujoco.Renderer(env.model) as renderer:\n",
    "\n",
    "  for t in tqdm.tqdm(range(400)):\n",
    "\n",
    "    with torch.no_grad():\n",
    "      actions, _ = drl.agent.get_action(torch.Tensor(obs))  # Get action from policy\n",
    "    next_obs, rewards, done, truncated, infos = env.step(actions)\n",
    "\n",
    "    if done:\n",
    "        # self.writer.add_scalar(\"Duration\", t, i)\n",
    "        break\n",
    "    mujoco.mj_forward(env.model,env.data)\n",
    "    renderer.update_scene(env.data)\n",
    "    pixels = renderer.render()\n",
    "    save_render_image(pixels,t)\n",
    "    obs = torch.Tensor(next_obs)\n",
    "\n",
    "\n",
    "env.close()"
   ]
  },
  {
   "cell_type": "code",
   "execution_count": null,
   "metadata": {
    "id": "B1fBqH_B1VYJ"
   },
   "outputs": [],
   "source": [
    "def write_video(folder_path):\n",
    "  output = os.path.join(folder_path,\"0324-9-early_ter.mp4\")\n",
    "  files = os.listdir(folder_path)\n",
    "  # fp = folder_path+f'/{files[5]}'\n",
    "  # print(fp)\n",
    "  # # num = len(files)//2\n",
    "  num = 400\n",
    "  # frame = cv2.imread(fp)\n",
    "  # frame_height, frame_width, _ = frame.shape\n",
    "  # print(frame_height,frame_width)\n",
    "  frame_height,frame_width = 240,320\n",
    "\n",
    "  fourcc = cv2.VideoWriter_fourcc(*\"mp4v\")  # Use \"XVID\" for AVI\n",
    "  out = cv2.VideoWriter(output, fourcc, 100, (frame_width, frame_height))\n",
    "  for idx in range(num):\n",
    "      img_path = \"./videos_new3\"+f\"/{idx}.png\"\n",
    "      frame = cv2.imread(img_path)\n",
    "      out.write(frame)  # Write frame to video\n",
    "\n",
    "  # Release writer\n",
    "  out.release()"
   ]
  },
  {
   "cell_type": "code",
   "execution_count": null,
   "metadata": {
    "id": "l0HS8I4u1wBz"
   },
   "outputs": [],
   "source": [
    "write_video(\"./videos_new3\")"
   ]
  }
 ],
 "metadata": {
  "accelerator": "GPU",
  "colab": {
   "authorship_tag": "ABX9TyMp3PDVsQKhZgqhKK+53Dd3",
   "gpuType": "T4",
   "mount_file_id": "1MAryHr5FHpXfa2o9Tqv9DYhGof9rj6gh",
   "provenance": []
  },
  "kernelspec": {
   "display_name": "Python 3",
   "name": "python3"
  },
  "language_info": {
   "name": "python"
  }
 },
 "nbformat": 4,
 "nbformat_minor": 0
}
